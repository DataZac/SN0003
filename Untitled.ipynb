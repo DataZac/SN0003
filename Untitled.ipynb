{
 "cells": [
  {
   "cell_type": "code",
   "execution_count": 4,
   "metadata": {
    "collapsed": false,
    "scrolled": true
   },
   "outputs": [
    {
     "name": "stdout",
     "output_type": "stream",
     "text": [
      "Not deleting file\n",
      "2018-09-23 19:09:06,302 - Side logger 1 - INFO - This is i: 0\n",
      "2018-09-23 19:09:06,302 - Side logger 1 - INFO - This is i: 1\n",
      "2018-09-23 19:09:06,302 - Side logger 1 - INFO - This is i: 2\n",
      "=== Func 1 finished\n",
      "2018-09-23 19:09:06,318 - Side logger 2 - WARNING - These are i and i+1: 0 1\n",
      "2018-09-23 19:09:06,318 - Side logger 2 - WARNING - These are i and i+1: 1 2\n",
      "2018-09-23 19:09:06,318 - Side logger 2 - WARNING - These are i and i+1: 2 3\n",
      "=== Func 2 finished\n",
      "2018-09-23 19:09:06,318 - Main logger - DEBUG - Debug message\n",
      "2018-09-23 19:09:06,318 - Main logger - INFO - This is i: 0\n",
      "2018-09-23 19:09:06,318 - Main logger - ERROR - Error message\n",
      "2018-09-23 19:09:06,318 - Main logger - CRITICAL - Ciritcal message\n",
      "2018-09-23 19:09:06,318 - Main logger - DEBUG - XDelete by filter\n",
      "2018-09-23 19:09:06,318 - Main logger - DEBUG - DDelete by filter\n",
      "2018-09-23 19:09:06,318 - Main logger - DEBUG - Debug message\n",
      "2018-09-23 19:09:06,318 - Main logger - INFO - This is i: 1\n",
      "2018-09-23 19:09:06,318 - Main logger - ERROR - Error message\n",
      "2018-09-23 19:09:06,318 - Main logger - CRITICAL - Ciritcal message\n",
      "2018-09-23 19:09:06,318 - Main logger - DEBUG - XDelete by filter\n",
      "2018-09-23 19:09:06,333 - Main logger - DEBUG - DDelete by filter\n",
      "2018-09-23 19:09:06,333 - Main logger - DEBUG - Debug message\n",
      "2018-09-23 19:09:06,333 - Main logger - INFO - This is i: 2\n",
      "2018-09-23 19:09:06,333 - Main logger - ERROR - Error message\n",
      "2018-09-23 19:09:06,333 - Main logger - CRITICAL - Ciritcal message\n",
      "2018-09-23 19:09:06,333 - Main logger - DEBUG - XDelete by filter\n",
      "2018-09-23 19:09:06,333 - Main logger - DEBUG - DDelete by filter\n",
      "=== Func 3 finished\n",
      "2018-09-23 19:09:00,817 - Main logger - DEBUG - XDelete by filter\n",
      "2018-09-23 19:09:00,833 - Main logger - DEBUG - XDelete by filter\n",
      "2018-09-23 19:09:00,849 - Main logger - DEBUG - XDelete by filter\n",
      "2018-09-23 19:09:06,318 - Main logger - DEBUG - XDelete by filter\n",
      "2018-09-23 19:09:06,318 - Main logger - DEBUG - XDelete by filter\n",
      "2018-09-23 19:09:06,318 - Main logger - DEBUG - XDelete by filter\n",
      "2018-09-23 19:09:06,318 - Main logger - DEBUG - XDelete by filter\n",
      "2018-09-23 19:09:06,333 - Main logger - DEBUG - XDelete by filter\n",
      "2018-09-23 19:09:06,333 - Main logger - DEBUG - XDelete by filter\n",
      "\n"
     ]
    }
   ],
   "source": [
    "#https://stackoverflow.com/questions/8162419/python-logging-specific-level-only\n",
    "import numpy as np\n",
    "import logging # default level is warning\n",
    "import os\n",
    "import sys\n",
    "\n",
    "logfile = 'log.txt'\n",
    "try:\n",
    "    os.remove('log.txt')\n",
    "except:\n",
    "    print('Not deleting file')\n",
    "    pass\n",
    "\n",
    "\n",
    "logger = logging.getLogger('Main logger')\n",
    "logger_1 = logging.getLogger('Side logger 1')\n",
    "logger_2 = logging.getLogger('Side logger 2')\n",
    "\n",
    "#stdout needed only in jupyter\n",
    "logging.basicConfig(format='%(asctime)s - %(name)s - %(levelname)s - %(message)s',level=logging.DEBUG, stream=sys.stdout)\n",
    "logger_1.setLevel(logging.INFO)\n",
    "logger_2.setLevel(logging.WARNING)\n",
    "\n",
    "# setting up handler\n",
    "fh = logging.FileHandler(logfile)\n",
    "formatter = logging.Formatter('%(asctime)s - %(name)s - %(levelname)s - %(message)s')\n",
    "fh.setFormatter(formatter)\n",
    "logger.addHandler(fh)\n",
    "#adding a filter to the handler\n",
    "class StartsWithFilter(logging.Filter):\n",
    "    def filter(self, record):\n",
    "        #return true to log it or false to discard it\n",
    "        return 'XDelete' in record.getMessage()\n",
    "fh.addFilter(StartsWithFilter())    \n",
    "\n",
    "\n",
    "def func1():\n",
    "        for i in np.arange(3):\n",
    "            #print(i)\n",
    "            logger_1.debug('Debug message')\n",
    "            logger_1.info('This is i: %s' %i)\n",
    "        print('=== Func 1 finished')\n",
    "\n",
    "        \n",
    "def func2():\n",
    "        for i in np.arange(3):\n",
    "            #print(i)\n",
    "            logger_2.debug('Debug message')\n",
    "            logger_2.info('This is i: %s' %i)\n",
    "            logger_2.warning('These are i and i+1: %s %s' % (i,i+1))\n",
    "\n",
    "        print('=== Func 2 finished')        \n",
    "        \n",
    "        \n",
    "def func3():\n",
    "        for i in np.arange(3):\n",
    "            #print(i)\n",
    "            logger.debug('Debug message')\n",
    "            logger.info('This is i: %s' %i)\n",
    "            logger.error('Error message')\n",
    "            logger.critical('Ciritcal message')\n",
    "            logger.debug('XDelete by filter')\n",
    "            logger.debug('DDelete by filter')\n",
    "        print('=== Func 3 finished')        \n",
    "        \n",
    "func1()\n",
    "func2()\n",
    "func3()\n",
    "\n",
    "with open(logfile, 'r') as file:  \n",
    "    data = file.read() \n",
    "\n",
    "print(data)"
   ]
  },
  {
   "cell_type": "code",
   "execution_count": 2,
   "metadata": {
    "collapsed": false
   },
   "outputs": [
    {
     "data": {
      "text/plain": [
       "False"
      ]
     },
     "execution_count": 2,
     "metadata": {},
     "output_type": "execute_result"
    }
   ],
   "source": [
    "a = 'lolxxll'\n",
    "'yx' in a"
   ]
  },
  {
   "cell_type": "code",
   "execution_count": 3,
   "metadata": {
    "collapsed": false
   },
   "outputs": [
    {
     "data": {
      "text/plain": [
       "'C:\\\\Users\\\\Superman\\\\Dropbox\\\\Projects\\\\Business\\\\IT_Projekte\\\\Python\\\\Snippets\\\\Tool_snippets\\\\SN0003'"
      ]
     },
     "execution_count": 3,
     "metadata": {},
     "output_type": "execute_result"
    }
   ],
   "source": [
    "os.getcwd()"
   ]
  }
 ],
 "metadata": {
  "anaconda-cloud": {},
  "kernelspec": {
   "display_name": "Python [conda root]",
   "language": "python",
   "name": "conda-root-py"
  },
  "language_info": {
   "codemirror_mode": {
    "name": "ipython",
    "version": 3
   },
   "file_extension": ".py",
   "mimetype": "text/x-python",
   "name": "python",
   "nbconvert_exporter": "python",
   "pygments_lexer": "ipython3",
   "version": "3.5.2"
  }
 },
 "nbformat": 4,
 "nbformat_minor": 1
}
